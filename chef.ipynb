{
 "cells": [
  {
   "cell_type": "markdown",
   "metadata": {
    "colab_type": "text",
    "id": "pashs3aC9OZD"
   },
   "source": [
    "# ***Where is the Chef From?***"
   ]
  },
  {
   "cell_type": "markdown",
   "metadata": {
    "colab_type": "text",
    "id": "o1gwliFc9Xpp"
   },
   "source": [
    "In this project we aim to predict the category of a dish's cuisine given a list of its ingredients.  Food is such a large part of the daily human experience.  Our strongest geographic and cultural associations are tied to a region’s local foods.  Linking recipes to the country of origin is valuable, especially under multiclass classification conditions. \n",
    "\n",
    "\n",
    "‘’If you're in Northern California, you'll be walking past the inevitable bushels of leafy greens, spiked with dark purple kale and the bright pinks and yellows of chard. Across the world in South Korea, mounds of bright red kimchi greet you, while the smell of the sea draws your attention to squids squirming nearby. India’s market is perhaps the most colorful, awash in the rich hues and aromas of dozens of spices: turmeric, star anise, poppy seeds, and garam masala as far as the eye can see. Some of our strongest geographic and cultural associations are tied to a region's local foods.’’\n",
    "\n",
    "The dataset is from Kaggle challenge: What’s for dinner? The data are stored in JSON format.\n",
    "train.json - the training set containing recipes id, type of cuisine, and list of ingredients\n",
    "test.json - the test set containing recipes id, and list of ingredients\n",
    "https://www.kaggle.com/kaggle/recipe-ingredients-dataset/home\n"
   ]
  },
  {
   "cell_type": "markdown",
   "metadata": {
    "colab_type": "text",
    "id": "FOIQY55-_m7c"
   },
   "source": [
    "Import the required packages."
   ]
  },
  {
   "cell_type": "code",
   "execution_count": 9,
   "metadata": {
    "colab": {},
    "colab_type": "code",
    "id": "LKaVFT1L_O2i"
   },
   "outputs": [],
   "source": [
    "%matplotlib inline\n",
    "import pandas as pd\n",
    "import numpy as np\n",
    "import matplotlib as plt"
   ]
  },
  {
   "cell_type": "markdown",
   "metadata": {
    "colab_type": "text",
    "id": "4Ch9df9C_8QI"
   },
   "source": [
    "### **Data Load and Analysis**\n",
    "\n",
    "Read the dataset. The data is in json format."
   ]
  },
  {
   "cell_type": "code",
   "execution_count": 10,
   "metadata": {
    "colab": {},
    "colab_type": "code",
    "id": "pLartEL7AAw9"
   },
   "outputs": [],
   "source": [
    "dataset = pd.read_json('data/train.json', orient='records')"
   ]
  },
  {
   "cell_type": "markdown",
   "metadata": {
    "colab_type": "text",
    "id": "WX-LM76S2cd3"
   },
   "source": [
    "Print the total number of recipes in the dataset."
   ]
  },
  {
   "cell_type": "code",
   "execution_count": 11,
   "metadata": {
    "colab": {
     "base_uri": "https://localhost:8080/",
     "height": 34
    },
    "colab_type": "code",
    "id": "a2-l48842TZ7",
    "outputId": "837b880e-90f6-4870-f190-6e91209e49be"
   },
   "outputs": [
    {
     "name": "stdout",
     "output_type": "stream",
     "text": [
      "Number of recipes: 39774\n"
     ]
    }
   ],
   "source": [
    "print(\"Number of recipes:\", len(dataset))"
   ]
  },
  {
   "cell_type": "markdown",
   "metadata": {
    "colab_type": "text",
    "id": "bBSCuHxrtFcc"
   },
   "source": [
    "Let's look at first ten rows of data. Each recipe has a unique id, country of origin label (cusine) and list of ingredients."
   ]
  },
  {
   "cell_type": "code",
   "execution_count": 12,
   "metadata": {
    "colab": {
     "base_uri": "https://localhost:8080/",
     "height": 359
    },
    "colab_type": "code",
    "id": "Dr5s59_Ss70J",
    "outputId": "f095c178-7563-400e-fa93-263206d398f2"
   },
   "outputs": [
    {
     "data": {
      "text/html": [
       "<div>\n",
       "<style scoped>\n",
       "    .dataframe tbody tr th:only-of-type {\n",
       "        vertical-align: middle;\n",
       "    }\n",
       "\n",
       "    .dataframe tbody tr th {\n",
       "        vertical-align: top;\n",
       "    }\n",
       "\n",
       "    .dataframe thead th {\n",
       "        text-align: right;\n",
       "    }\n",
       "</style>\n",
       "<table border=\"1\" class=\"dataframe\">\n",
       "  <thead>\n",
       "    <tr style=\"text-align: right;\">\n",
       "      <th></th>\n",
       "      <th>cuisine</th>\n",
       "      <th>id</th>\n",
       "      <th>ingredients</th>\n",
       "    </tr>\n",
       "  </thead>\n",
       "  <tbody>\n",
       "    <tr>\n",
       "      <th>0</th>\n",
       "      <td>greek</td>\n",
       "      <td>10259</td>\n",
       "      <td>[romaine lettuce, black olives, grape tomatoes...</td>\n",
       "    </tr>\n",
       "    <tr>\n",
       "      <th>1</th>\n",
       "      <td>southern_us</td>\n",
       "      <td>25693</td>\n",
       "      <td>[plain flour, ground pepper, salt, tomatoes, g...</td>\n",
       "    </tr>\n",
       "    <tr>\n",
       "      <th>2</th>\n",
       "      <td>filipino</td>\n",
       "      <td>20130</td>\n",
       "      <td>[eggs, pepper, salt, mayonaise, cooking oil, g...</td>\n",
       "    </tr>\n",
       "    <tr>\n",
       "      <th>3</th>\n",
       "      <td>indian</td>\n",
       "      <td>22213</td>\n",
       "      <td>[water, vegetable oil, wheat, salt]</td>\n",
       "    </tr>\n",
       "    <tr>\n",
       "      <th>4</th>\n",
       "      <td>indian</td>\n",
       "      <td>13162</td>\n",
       "      <td>[black pepper, shallots, cornflour, cayenne pe...</td>\n",
       "    </tr>\n",
       "    <tr>\n",
       "      <th>5</th>\n",
       "      <td>jamaican</td>\n",
       "      <td>6602</td>\n",
       "      <td>[plain flour, sugar, butter, eggs, fresh ginge...</td>\n",
       "    </tr>\n",
       "    <tr>\n",
       "      <th>6</th>\n",
       "      <td>spanish</td>\n",
       "      <td>42779</td>\n",
       "      <td>[olive oil, salt, medium shrimp, pepper, garli...</td>\n",
       "    </tr>\n",
       "    <tr>\n",
       "      <th>7</th>\n",
       "      <td>italian</td>\n",
       "      <td>3735</td>\n",
       "      <td>[sugar, pistachio nuts, white almond bark, flo...</td>\n",
       "    </tr>\n",
       "    <tr>\n",
       "      <th>8</th>\n",
       "      <td>mexican</td>\n",
       "      <td>16903</td>\n",
       "      <td>[olive oil, purple onion, fresh pineapple, por...</td>\n",
       "    </tr>\n",
       "    <tr>\n",
       "      <th>9</th>\n",
       "      <td>italian</td>\n",
       "      <td>12734</td>\n",
       "      <td>[chopped tomatoes, fresh basil, garlic, extra-...</td>\n",
       "    </tr>\n",
       "  </tbody>\n",
       "</table>\n",
       "</div>"
      ],
      "text/plain": [
       "       cuisine     id                                        ingredients\n",
       "0        greek  10259  [romaine lettuce, black olives, grape tomatoes...\n",
       "1  southern_us  25693  [plain flour, ground pepper, salt, tomatoes, g...\n",
       "2     filipino  20130  [eggs, pepper, salt, mayonaise, cooking oil, g...\n",
       "3       indian  22213                [water, vegetable oil, wheat, salt]\n",
       "4       indian  13162  [black pepper, shallots, cornflour, cayenne pe...\n",
       "5     jamaican   6602  [plain flour, sugar, butter, eggs, fresh ginge...\n",
       "6      spanish  42779  [olive oil, salt, medium shrimp, pepper, garli...\n",
       "7      italian   3735  [sugar, pistachio nuts, white almond bark, flo...\n",
       "8      mexican  16903  [olive oil, purple onion, fresh pineapple, por...\n",
       "9      italian  12734  [chopped tomatoes, fresh basil, garlic, extra-..."
      ]
     },
     "execution_count": 12,
     "metadata": {},
     "output_type": "execute_result"
    }
   ],
   "source": [
    "dataset[:10]"
   ]
  },
  {
   "cell_type": "markdown",
   "metadata": {
    "colab_type": "text",
    "id": "KTTwv3aRtVDU"
   },
   "source": [
    "Let's look at a specific example. Ingredients of roti (indian bread)."
   ]
  },
  {
   "cell_type": "code",
   "execution_count": 13,
   "metadata": {
    "colab": {
     "base_uri": "https://localhost:8080/",
     "height": 80
    },
    "colab_type": "code",
    "id": "Df_l82BDtW2f",
    "outputId": "ada3e809-f566-4219-94b7-fd4043a3aa9c"
   },
   "outputs": [
    {
     "data": {
      "text/html": [
       "<div>\n",
       "<style scoped>\n",
       "    .dataframe tbody tr th:only-of-type {\n",
       "        vertical-align: middle;\n",
       "    }\n",
       "\n",
       "    .dataframe tbody tr th {\n",
       "        vertical-align: top;\n",
       "    }\n",
       "\n",
       "    .dataframe thead th {\n",
       "        text-align: right;\n",
       "    }\n",
       "</style>\n",
       "<table border=\"1\" class=\"dataframe\">\n",
       "  <thead>\n",
       "    <tr style=\"text-align: right;\">\n",
       "      <th></th>\n",
       "      <th>ingredients</th>\n",
       "    </tr>\n",
       "  </thead>\n",
       "  <tbody>\n",
       "    <tr>\n",
       "      <th>3</th>\n",
       "      <td>[water, vegetable oil, wheat, salt]</td>\n",
       "    </tr>\n",
       "  </tbody>\n",
       "</table>\n",
       "</div>"
      ],
      "text/plain": [
       "                           ingredients\n",
       "3  [water, vegetable oil, wheat, salt]"
      ]
     },
     "execution_count": 13,
     "metadata": {},
     "output_type": "execute_result"
    }
   ],
   "source": [
    "roti = (dataset['id'] == 22213)\n",
    "dataset[roti][['ingredients']]"
   ]
  },
  {
   "cell_type": "markdown",
   "metadata": {
    "colab_type": "text",
    "id": "3bLMBkv2tfGG"
   },
   "source": [
    "Count of recipes by cusines and plot bar chart of count of recipes for each cuisine."
   ]
  },
  {
   "cell_type": "code",
   "execution_count": 14,
   "metadata": {
    "colab": {
     "base_uri": "https://localhost:8080/",
     "height": 374
    },
    "colab_type": "code",
    "id": "IruH4G2FtP_R",
    "outputId": "8b11445f-54f3-4d30-ec31-0cf6d0ab8178"
   },
   "outputs": [
    {
     "data": {
      "text/plain": [
       "italian         7838\n",
       "mexican         6438\n",
       "southern_us     4320\n",
       "indian          3003\n",
       "chinese         2673\n",
       "french          2646\n",
       "cajun_creole    1546\n",
       "thai            1539\n",
       "japanese        1423\n",
       "greek           1175\n",
       "spanish          989\n",
       "korean           830\n",
       "vietnamese       825\n",
       "moroccan         821\n",
       "british          804\n",
       "filipino         755\n",
       "irish            667\n",
       "jamaican         526\n",
       "russian          489\n",
       "brazilian        467\n",
       "Name: cuisine, dtype: int64"
      ]
     },
     "execution_count": 14,
     "metadata": {},
     "output_type": "execute_result"
    }
   ],
   "source": [
    "cuisine = dataset['cuisine'].value_counts().index  #for evaluation purpose, do not delete\n",
    "dataset['cuisine'].value_counts()"
   ]
  },
  {
   "cell_type": "code",
   "execution_count": 15,
   "metadata": {
    "colab": {
     "base_uri": "https://localhost:8080/",
     "height": 358
    },
    "colab_type": "code",
    "id": "3Pbwff4rt4Sz",
    "outputId": "334ca175-a1e6-4743-eb25-3a7771583d4d"
   },
   "outputs": [
    {
     "data": {
      "text/plain": [
       "Text(0, 0.5, '# Recipes')"
      ]
     },
     "execution_count": 15,
     "metadata": {},
     "output_type": "execute_result"
    },
    {
     "data": {
      "image/png": "[encoded data removed]",
      "text/plain": [
       "<Figure size 432x288 with 1 Axes>"
      ]
     },
     "metadata": {
      "needs_background": "light"
     },
     "output_type": "display_data"
    }
   ],
   "source": [
    "ax = dataset['cuisine'].value_counts().plot(kind='bar', \\\n",
    "                                            title=\"Countries\")\n",
    "ax.set_xlabel(\"Country of Origin\")\n",
    "ax.set_ylabel(\"# Recipes\")"
   ]
  },
  {
   "cell_type": "markdown",
   "metadata": {
    "colab_type": "text",
    "id": "fsWm9ebSXf95"
   },
   "source": [
    "Let's collect all the ingredients in a list and print few examples.\n"
   ]
  },
  {
   "cell_type": "code",
   "execution_count": 16,
   "metadata": {
    "colab": {
     "base_uri": "https://localhost:8080/",
     "height": 221
    },
    "colab_type": "code",
    "id": "m9h6tiJmT18M",
    "outputId": "1c8ea6ea-e29d-4d50-bf7d-53a9d9e8abe3"
   },
   "outputs": [
    {
     "name": "stdout",
     "output_type": "stream",
     "text": [
      "Total ingredients (not unique): 428275\n",
      "Total unique ingredients: 6714\n",
      "romaine lettuce\n",
      "black olives\n",
      "grape tomatoes\n",
      "garlic\n",
      "pepper\n",
      "purple onion\n",
      "seasoning\n",
      "garbanzo beans\n",
      "feta cheese crumbles\n",
      "plain flour\n"
     ]
    }
   ],
   "source": [
    "ingredients = []\n",
    "for il in dataset['ingredients']:\n",
    "    ingredients.extend(il)\n",
    "print(\"Total ingredients (not unique):\", len(ingredients))\n",
    "print(\"Total unique ingredients:\", len(set(ingredients)))\n",
    "\n",
    "for i in range(10):\n",
    "    print(ingredients[i])"
   ]
  },
  {
   "cell_type": "markdown",
   "metadata": {
    "colab_type": "text",
    "id": "VQVECU6qXMhU"
   },
   "source": [
    "Let's find top 10 ingredients across all recipes and plot.\n",
    "\n"
   ]
  },
  {
   "cell_type": "code",
   "execution_count": 17,
   "metadata": {
    "colab": {
     "base_uri": "https://localhost:8080/",
     "height": 392
    },
    "colab_type": "code",
    "id": "kJm84MiUXqJ0",
    "outputId": "04ac1d71-f118-4126-ef98-ffd889831963"
   },
   "outputs": [
    {
     "data": {
      "text/plain": [
       "Text(0, 0.5, '# Recipes')"
      ]
     },
     "execution_count": 17,
     "metadata": {},
     "output_type": "execute_result"
    },
    {
     "data": {
      "image/png": "[encoded data removed]",
      "text/plain": [
       "<Figure size 432x288 with 1 Axes>"
      ]
     },
     "metadata": {
      "needs_background": "light"
     },
     "output_type": "display_data"
    }
   ],
   "source": [
    "ingredients_series = pd.Series(ingredients)\n",
    "ax1 = ingredients_series.value_counts().head(10).plot(kind='bar', \\\n",
    "                                               title='Top 10 Ingredients')\n",
    "ax1.set_xlabel(\"Top 10 Ingredients\")\n",
    "ax1.set_ylabel(\"# Recipes\")"
   ]
  },
  {
   "cell_type": "markdown",
   "metadata": {
    "colab_type": "text",
    "id": "mSqYlVVJrt23"
   },
   "source": [
    "Ingredient Importance - garlic\n",
    "\n"
   ]
  },
  {
   "cell_type": "code",
   "execution_count": 18,
   "metadata": {
    "colab": {
     "base_uri": "https://localhost:8080/",
     "height": 344
    },
    "colab_type": "code",
    "id": "QOtbek9pr1Bc",
    "outputId": "f334654e-c0c2-4175-a8ee-6103c6adf479"
   },
   "outputs": [
    {
     "data": {
      "text/plain": [
       "<matplotlib.axes._subplots.AxesSubplot at 0x11ff22a20>"
      ]
     },
     "execution_count": 18,
     "metadata": {},
     "output_type": "execute_result"
    },
    {
     "data": {
      "image/png": "[encoded data removed]",
      "text/plain": [
       "<Figure size 432x288 with 1 Axes>"
      ]
     },
     "metadata": {
      "needs_background": "light"
     },
     "output_type": "display_data"
    }
   ],
   "source": [
    "ingredients2 = dataset['ingredients'].map(\";\".join)\n",
    "indices = ingredients2.str.contains('soy sauce')\n",
    "dataset[indices]['cuisine'].value_counts().plot(kind='bar',\n",
    "                                   title='soy sauce as found per cuisine')"
   ]
  },
  {
   "cell_type": "markdown",
   "metadata": {
    "colab_type": "text",
    "id": "_LD0PZJ1Yawg"
   },
   "source": [
    "### **Data cleaning**\n",
    "\n",
    "As we can see that some of the ingredients have words describing some attributes of the underlying ingredient.  \n",
    "There are two cases we need to deal with:\n",
    "\n",
    "For example, \"chopped onions\" vs \"onions\". The word chopped doesn't add any value to learning so we can remove the word \"chopped\".\n",
    "\n",
    "Another case \"garlic clove\" and \"garlic\".  In this case, we can't just remove \"clove\" since it is also a name of an ingredient.  We deal with this case as mapping \"garlic clove\" to \"garlic\".\n",
    "\n",
    "Additionally, we see examples such as \"eggs\" and \"egg\". Therefore we convert purals to singulars.\n",
    "\n",
    "Finally, we replace one than one spaces to a single space and remove space in the start and end.\n"
   ]
  },
  {
   "cell_type": "code",
   "execution_count": 19,
   "metadata": {
    "colab": {},
    "colab_type": "code",
    "id": "7K1BJf4JZEdX"
   },
   "outputs": [],
   "source": [
    "import re\n",
    "def clean_ingredients(ingredients):\n",
    "  \n",
    "  words_to_remove = [\"lowfat\", \"light\", \"shredded\", \"sliced\", \"all purpose\", \"all natural\", \"natural\", \"original\", \n",
    "                      \"gourmet\", \"traditional\", \"boneless\", \"skinless\", \"fresh\", \"nonfat\", \"pitted\", \"quick cooking\", \n",
    "                      \"unbleached\", \"part skim\", \"skim\", \"quickcooking\", \"oven ready\", \"homemade\", \"instant\", \"small\", \n",
    "                      \"extra large\", \"large\", \"chopped\", \"grated\", \"cooked\", \"stone ground\", \"freshly ground\", \n",
    "                      \"ground\", \"pure\", \"peeled\", \"deveined\", \"organic\", \"cracked\", \"granulated\", \"inch thick\", \n",
    "                      \"extra firm\", \"crushed\", \"flakes\", \"self rising\", \"diced\", \"crumbles\", \"crumbled\", \n",
    "                      \"whole wheat\", \"whole grain\", \"baby\", \"medium\", \"plain\", \"of\", \"thick cut\", \"cubed\", \"coarse\", \n",
    "                      \"free range\", \"seasoned\", \"canned\", \"multipurpose\", \"vegan\", \"thawed\", \"squeezed\", \n",
    "                      \"vegetarian\", \"fine\", \"zesty\", \"halves\", \"firmly packed\", \"drain\", \"drained\", \"washed\"]\n",
    "  \n",
    "  map_plural_to_singular = [(\"steaks\", \"steak\"), (\"loins\", \"loin\"), (\"inches\", \"inch\"), (\"centimeters\", \"centimeter\"),\n",
    "                          (\"ounces\", \"ounce\"), (\"liters\", \"liter\"), (\"mililiters\", \"mililiter\"), (\"grams\", \"gram\"),\n",
    "                          (\"cups\", \"cup\"), (\"gallons\", \"gallon\"), (\"quarts\", \"quart\"), (\"lbs\", \"lb\"),\n",
    "                          (\"pounds\", \"pound\"), (\"tablespoons\", \"tablespoon\"), (\"teaspoons\", \"teaspoon\"), \n",
    "                          (\"pints\", \"pint\"), (\"fluid ounces\", \"fluid ounce\"), (\"onions\", \"onion\"), \n",
    "                          (\"cloves\", \"clove\"), (\"bulbs\", \"bulb\"), (\"peppers\", \"pepper\"), (\"breasts\", \"breast\"),\n",
    "                          (\"eggs\", \"egg\"), (\"carrots\", \"carrot\"), (\"mushrooms\", \"mushroom\"),\n",
    "                          (\"tortillas\", \"tortilla\"), (\"sausages\", \"sausage\"), (\"wedges\", \"wedge\"), \n",
    "                          (\"tomatoes\", \"tomato\"), (\"thighs\", \"thigh\"), (\"chilies\", \"chili\"), (\"potatoes\", \"potato\"), \n",
    "                          (\"peppercorns\", \"peppercorn\"), (\"spices\", \"spice\"), (\"chiles\", \"chile\"), (\"apples\", \"apple\"),\n",
    "                          (\"legs\", \"leg\"), (\"doughs\", \"dough\"), (\"drumsticks\", \"drumstick\")]\n",
    "  \n",
    "  phrases_to_map = [\n",
    "    ((\"green onion\", \"red onion\", \"purple onion\", \"yellow onion\", \"yel onion\"), \"onion\"),\n",
    "    ((\"collard green leaves\", \"collards\", \"collard leaves\"), \"collard greens\"),\n",
    "    (\"black pepper\", \"pepper\"),\n",
    "    (\"yel chives\", \"chives\"),\n",
    "    (\"spinach leaves\", \"spinach\"),\n",
    "    (\"tea leaves\", \"tea\"),\n",
    "    (\"chile\", \"chili\"),\n",
    "    ((\"garlic clove\", \"garlic bulb\"), \"garlic\"),\n",
    "    (\"uncooked\", \"raw\"),\n",
    "    ((\"red chili pepper\", \"hot chili pepper\", \"red hot chili pepper\"), \"chili pepper\"),\n",
    "    ((\"baking potato\", \"baked potato\"), \"baked potato\"),\n",
    "    ((\"sea salt\", \"kosher salt\", \"table salt\", \"white salt\"), \"salt\"),\n",
    "    (\"scotch whiskey\", \"scotch\"),\n",
    "    ((\"i cant believe its not butter spread\", \"i cant believe its not butter\"), \"butter\"),\n",
    "    ((\"extra virgin olive oil\", \"virgin olive oil\"), \"olive oil\"),\n",
    "    ((\"white bread\", \"wheat bread\", \"grain bread\"), \"bread\"),\n",
    "    ((\"white sugar\", \"yel sugar\"), \"sugar\"),\n",
    "    (\"confectioners sugar\", \"powdered sugar\")\n",
    "    ]\n",
    "  \n",
    "  for i in range(len(ingredients)):\n",
    "    for word in words_to_remove:\n",
    "        ingredients[i] = re.sub(r\"\\b{}\\b\".format(word), \"\", ingredients[i])\n",
    "    for plural, singular in map_plural_to_singular:\n",
    "        ingredients[i] = re.sub(r\"\\b{}\\b\".format(plural), singular, ingredients[i])\n",
    "    for pattern, replacement in phrases_to_map:\n",
    "        if type(pattern) is tuple:\n",
    "            for val in pattern:\n",
    "                ingredients[i] = re.sub(r\"\\b{}\\b\".format(val), replacement, ingredients[i])\n",
    "        elif type(pattern) is str:\n",
    "            ingredients[i] = re.sub(r\"\\b{}\\b\".format(pattern), replacement, ingredients[i])\n",
    "    ingredients[i] = re.compile(r\" +\").sub(\" \", ingredients[i])\n",
    "    ingredients[i] = ingredients[i].strip()\n"
   ]
  },
  {
   "cell_type": "markdown",
   "metadata": {
    "colab_type": "text",
    "id": "aeMpk8lA4xeN"
   },
   "source": [
    "### **Design Matrix**\n",
    "\n",
    "Prepare design matrix and labels. Split the data into train and test sets."
   ]
  },
  {
   "cell_type": "code",
   "execution_count": 20,
   "metadata": {
    "colab": {
     "base_uri": "https://localhost:8080/",
     "height": 85
    },
    "colab_type": "code",
    "id": "0CCVDcv_1nmy",
    "outputId": "fc86c2b4-a3d1-4942-c044-70206d39e07e"
   },
   "outputs": [
    {
     "name": "stdout",
     "output_type": "stream",
     "text": [
      "x_train (37785, 3010)\n",
      "y_train (37785,)\n",
      "x_test (1989, 3010)\n",
      "y_test (1989,)\n"
     ]
    }
   ],
   "source": [
    "from sklearn.model_selection import train_test_split\n",
    "from sklearn.feature_extraction.text import TfidfVectorizer\n",
    "from sklearn.preprocessing import LabelEncoder\n",
    "\n",
    "ingredients = [' '.join(ingredients).lower() for ingredients in dataset['ingredients']]\n",
    "cuisines = [cusine for cusine in dataset['cuisine']]\n",
    "#clean_ingredients(ingredients)\n",
    "\n",
    "tfidf_enc = TfidfVectorizer(binary=True)\n",
    "lbl_enc = LabelEncoder()\n",
    "\n",
    "X = tfidf_enc.fit_transform(ingredients)\n",
    "X = X.astype('float16')\n",
    "\n",
    "Y = lbl_enc.fit_transform(cuisines)\n",
    "\n",
    "x_train, x_test, y_train, y_test = train_test_split(X, Y,\n",
    "                                                    test_size=0.05,\n",
    "                                                    random_state = 8888)\n",
    "\n",
    "print(\"x_train\", x_train.shape)\n",
    "print(\"y_train\", y_train.shape)\n",
    "print(\"x_test\", x_test.shape)\n",
    "print(\"y_test\", y_test.shape)\n",
    "\n"
   ]
  },
  {
   "cell_type": "markdown",
   "metadata": {
    "colab_type": "text",
    "id": "K0Lpsq3WGxN_"
   },
   "source": [
    "### **Evaluation Matrix**"
   ]
  },
  {
   "cell_type": "code",
   "execution_count": 21,
   "metadata": {
    "colab": {},
    "colab_type": "code",
    "id": "McUQNuolGxOA"
   },
   "outputs": [],
   "source": [
    "from sklearn.metrics import confusion_matrix\n",
    "from sklearn.metrics import classification_report\n",
    "from matplotlib import pyplot\n",
    "\n",
    "def cm(y_test, y_pred, cuisines):         \n",
    "    pyplot.figure(figsize=(10, 10))\n",
    "    cm = confusion_matrix(y_test, y_pred)\n",
    "    cm_normalized = cm.astype('float') / cm.sum(axis=1)[:, np.newaxis]\n",
    "    \n",
    "    pyplot.imshow(cm_normalized, interpolation='nearest')\n",
    "    pyplot.title(\"confusion matrix\")\n",
    "    pyplot.colorbar(shrink=0.2)\n",
    "    tick_marks = np.arange(len(cuisines))\n",
    "    pyplot.xticks(tick_marks, cuisines, rotation=90)\n",
    "    pyplot.yticks(tick_marks, cuisines)\n",
    "    pyplot.tight_layout()\n",
    "    pyplot.ylabel('True label')\n",
    "    pyplot.xlabel('Predicted label')\n",
    "    \n",
    "    print(classification_report(y_test, y_pred, target_names = cuisines))\n",
    "\n"
   ]
  },
  {
   "cell_type": "markdown",
   "metadata": {
    "colab_type": "text",
    "id": "lAWlXV9F-EXw"
   },
   "source": [
    "\n",
    "### **Multi-layer Perceptron classifier - Base Case 1**"
   ]
  },
  {
   "cell_type": "code",
   "execution_count": 22,
   "metadata": {
    "colab": {
     "base_uri": "https://localhost:8080/",
     "height": 1110
    },
    "colab_type": "code",
    "id": "_357St88-G3K",
    "outputId": "1e1b91f6-cda5-446f-edd7-f58a51dd5169"
   },
   "outputs": [
    {
     "name": "stdout",
     "output_type": "stream",
     "text": [
      "training accuracy: 0.8492523488156676\n",
      "testing accuracy: 0.770739064856712\n",
      "              precision    recall  f1-score   support\n",
      "\n",
      "     italian       0.67      0.56      0.61        18\n",
      "     mexican       0.50      0.36      0.42        39\n",
      " southern_us       0.76      0.69      0.72        74\n",
      "      indian       0.82      0.83      0.82       145\n",
      "     chinese       0.59      0.71      0.65        31\n",
      "      french       0.57      0.63      0.60       134\n",
      "cajun_creole       0.88      0.73      0.80        63\n",
      "        thai       0.83      0.91      0.87       144\n",
      "    japanese       0.53      0.55      0.54        38\n",
      "       greek       0.83      0.86      0.85       404\n",
      "     spanish       0.67      0.71      0.69        14\n",
      "      korean       0.65      0.63      0.64        68\n",
      "  vietnamese       0.70      0.82      0.76        40\n",
      "    moroccan       0.91      0.91      0.91       345\n",
      "     british       0.83      0.78      0.80        45\n",
      "    filipino       0.41      0.32      0.36        22\n",
      "       irish       0.74      0.74      0.74       208\n",
      "    jamaican       0.61      0.55      0.58        51\n",
      "     russian       0.74      0.69      0.71        70\n",
      "   brazilian       0.47      0.42      0.44        36\n",
      "\n",
      "   micro avg       0.77      0.77      0.77      1989\n",
      "   macro avg       0.69      0.67      0.68      1989\n",
      "weighted avg       0.77      0.77      0.77      1989\n",
      "\n"
     ]
    },
    {
     "data": {
      "image/png": "[encoded data removed]",
      "text/plain": [
       "<Figure size 720x720 with 2 Axes>"
      ]
     },
     "metadata": {
      "needs_background": "light"
     },
     "output_type": "display_data"
    }
   ],
   "source": [
    "from sklearn.neural_network import MLPClassifier\n",
    "from sklearn.metrics import accuracy_score\n",
    "\n",
    "mlp_clf = MLPClassifier(solver='lbfgs', alpha=1e-3,\n",
    "                     hidden_layer_sizes=(128, 64), random_state=1)\n",
    "\n",
    "mlp_clf.fit(x_train, y_train)                         \n",
    "\n",
    "y_pred1 = mlp_clf.predict(x_train)\n",
    "y_pred2 = mlp_clf.predict(x_test)\n",
    "\n",
    "print(\"training accuracy:\", accuracy_score(y_train, y_pred1))\n",
    "print(\"testing accuracy:\", accuracy_score(y_test, y_pred2))\n",
    "cm(y_test, y_pred2, cuisine)\n",
    "\n"
   ]
  },
  {
   "cell_type": "markdown",
   "metadata": {
    "colab_type": "text",
    "id": "VaqHezoM0KkA"
   },
   "source": [
    "### **Logistic Regression - Base Case 2**\n",
    "Optimum hyperparameter grid search."
   ]
  },
  {
   "cell_type": "code",
   "execution_count": 23,
   "metadata": {
    "colab": {
     "base_uri": "https://localhost:8080/",
     "height": 1141
    },
    "colab_type": "code",
    "id": "vcve7XOl0T66",
    "outputId": "9cf73c1d-c0bb-4a29-fc47-d2ba45414a5c"
   },
   "outputs": [
    {
     "name": "stdout",
     "output_type": "stream",
     "text": [
      "--before optimization--\n"
     ]
    },
    {
     "name": "stderr",
     "output_type": "stream",
     "text": [
      "/Users/manishpandit/work/projects/chef/lib/python3.6/site-packages/sklearn/linear_model/logistic.py:433: FutureWarning: Default solver will be changed to 'lbfgs' in 0.22. Specify a solver to silence this warning.\n",
      "  FutureWarning)\n",
      "/Users/manishpandit/work/projects/chef/lib/python3.6/site-packages/sklearn/linear_model/logistic.py:460: FutureWarning: Default multi_class will be changed to 'auto' in 0.22. Specify the multi_class option to silence this warning.\n",
      "  \"this warning.\", FutureWarning)\n"
     ]
    },
    {
     "name": "stdout",
     "output_type": "stream",
     "text": [
      "testing accuracy: 0.792357968828557\n",
      "--after optimization--\n"
     ]
    },
    {
     "name": "stderr",
     "output_type": "stream",
     "text": [
      "/Users/manishpandit/work/projects/chef/lib/python3.6/site-packages/sklearn/linear_model/logistic.py:433: FutureWarning: Default solver will be changed to 'lbfgs' in 0.22. Specify a solver to silence this warning.\n",
      "  FutureWarning)\n",
      "/Users/manishpandit/work/projects/chef/lib/python3.6/site-packages/sklearn/linear_model/logistic.py:460: FutureWarning: Default multi_class will be changed to 'auto' in 0.22. Specify the multi_class option to silence this warning.\n",
      "  \"this warning.\", FutureWarning)\n"
     ]
    },
    {
     "name": "stdout",
     "output_type": "stream",
     "text": [
      "CV training accuracy: 0.7889 (+/- 0.0097)\n",
      "testing accuracy: 0.8024132730015083\n",
      "              precision    recall  f1-score   support\n",
      "\n",
      "     italian       0.91      0.56      0.69        18\n",
      "     mexican       0.62      0.46      0.53        39\n",
      " southern_us       0.76      0.65      0.70        74\n",
      "      indian       0.82      0.86      0.84       145\n",
      "     chinese       0.65      0.65      0.65        31\n",
      "      french       0.61      0.67      0.64       134\n",
      "cajun_creole       0.90      0.68      0.77        63\n",
      "        thai       0.88      0.93      0.90       144\n",
      "    japanese       0.74      0.45      0.56        38\n",
      "       greek       0.83      0.91      0.87       404\n",
      "     spanish       0.85      0.79      0.81        14\n",
      "      korean       0.80      0.71      0.75        68\n",
      "  vietnamese       0.82      0.80      0.81        40\n",
      "    moroccan       0.92      0.93      0.92       345\n",
      "     british       0.92      0.73      0.81        45\n",
      "    filipino       0.62      0.36      0.46        22\n",
      "       irish       0.70      0.82      0.76       208\n",
      "    jamaican       0.80      0.63      0.70        51\n",
      "     russian       0.78      0.73      0.76        70\n",
      "   brazilian       0.61      0.53      0.57        36\n",
      "\n",
      "   micro avg       0.80      0.80      0.80      1989\n",
      "   macro avg       0.78      0.69      0.72      1989\n",
      "weighted avg       0.80      0.80      0.80      1989\n",
      "\n"
     ]
    },
    {
     "data": {
      "image/png": "[encoded data removed]",
      "text/plain": [
       "<Figure size 720x720 with 2 Axes>"
      ]
     },
     "metadata": {
      "needs_background": "light"
     },
     "output_type": "display_data"
    }
   ],
   "source": [
    "from sklearn.linear_model import LogisticRegression\n",
    "from sklearn.metrics import accuracy_score\n",
    "from sklearn.model_selection import cross_val_score\n",
    "from sklearn.model_selection import GridSearchCV\n",
    "\n",
    "y_train = y_train.reshape(y_train.size)\n",
    "purpose = 'run'    #optimize or run(get best results)\n",
    "\n",
    "if purpose == 'optimize':\n",
    "    lr = LogisticRegression(C=10)\n",
    "    lr.fit(x_train, y_train)\n",
    "  \n",
    "    #cv  \n",
    "    scores = cross_val_score(LogisticRegression(C=10), x_train ,y_train, cv=5)\n",
    "    print(\"training accuracy: %0.4f (+/- %0.4f)\" % (scores.mean(), scores.std() * 2))\n",
    "    y_pred1 = lr.predict(x_test)\n",
    "    print(\"testing accuracy before Grid Search:\", accuracy_score(y_test, y_pred1))\n",
    "\n",
    "    #grid search\n",
    "    parameters = {'C':[0.1,0.5,1,1.5,2,2.5,3,3.5,4,4.5,5,5.5,6,6.5,7,7.5,8,8.5,9,9.5,10]}\n",
    "    lr_clf = GridSearchCV(lr, parameters)\n",
    "    lr_clf.fit(x_train, y_train)\n",
    "\n",
    "    # predict cuisines\n",
    "    y_pred2 = lr_clf.predict(x_test)\n",
    "    print(\"testing accuracy after Grid Seach:\", accuracy_score(y_test, y_pred2))\n",
    "    # best parameter C=4.5 - test accuracy 80.1408%\n",
    "    print(lr_clf.best_estimator_)\n",
    "else:\n",
    "    print(\"--before optimization--\")\n",
    "    lr = LogisticRegression()\n",
    "    lr.fit(x_train, y_train)\n",
    "    y_pred1 = lr.predict(x_test)\n",
    "    print(\"testing accuracy:\", accuracy_score(y_test, y_pred1))\n",
    "    \n",
    "    print(\"--after optimization--\")\n",
    "    lr_clf = LogisticRegression(C=4.5)\n",
    "    lr_clf.fit(x_train, y_train)\n",
    "    scores = cross_val_score(lr_clf, x_train ,y_train, cv=5)\n",
    "    print(\"CV training accuracy: %0.4f (+/- %0.4f)\" % (scores.mean(), scores.std() * 2))\n",
    "    y_pred2 = lr_clf.predict(x_test)\n",
    "    print(\"testing accuracy:\", accuracy_score(y_test, y_pred2))\n",
    "    cm(y_test, y_pred2, cuisine)"
   ]
  },
  {
   "cell_type": "markdown",
   "metadata": {
    "colab_type": "text",
    "id": "PWOND4BM9Vr1"
   },
   "source": [
    "### **Support Vector Machine - Best Case**\n",
    "Optimum hyperparameter grid search."
   ]
  },
  {
   "cell_type": "code",
   "execution_count": 24,
   "metadata": {
    "colab": {
     "base_uri": "https://localhost:8080/",
     "height": 1141
    },
    "colab_type": "code",
    "id": "XBZrbjEM_NSE",
    "outputId": "24c53346-0db6-47bd-d13f-45a832827e5b"
   },
   "outputs": [
    {
     "name": "stdout",
     "output_type": "stream",
     "text": [
      "--before optimization--\n",
      "testing accuracy: 0.7998994469582705\n",
      "--after optimization--\n",
      "CV training accuracy: 0.8055 (+/- 0.0090)\n",
      "testing accuracy: 0.8205128205128205\n",
      "              precision    recall  f1-score   support\n",
      "\n",
      "     italian       0.92      0.61      0.73        18\n",
      "     mexican       0.68      0.49      0.57        39\n",
      " southern_us       0.82      0.72      0.76        74\n",
      "      indian       0.87      0.85      0.86       145\n",
      "     chinese       0.85      0.74      0.79        31\n",
      "      french       0.60      0.73      0.66       134\n",
      "cajun_creole       0.89      0.78      0.83        63\n",
      "        thai       0.88      0.93      0.90       144\n",
      "    japanese       0.88      0.55      0.68        38\n",
      "       greek       0.83      0.91      0.87       404\n",
      "     spanish       0.73      0.79      0.76        14\n",
      "      korean       0.81      0.74      0.77        68\n",
      "  vietnamese       0.89      0.82      0.86        40\n",
      "    moroccan       0.93      0.92      0.92       345\n",
      "     british       0.92      0.73      0.81        45\n",
      "    filipino       0.69      0.50      0.58        22\n",
      "       irish       0.74      0.81      0.78       208\n",
      "    jamaican       0.76      0.61      0.67        51\n",
      "     russian       0.81      0.80      0.81        70\n",
      "   brazilian       0.69      0.69      0.69        36\n",
      "\n",
      "   micro avg       0.82      0.82      0.82      1989\n",
      "   macro avg       0.81      0.74      0.77      1989\n",
      "weighted avg       0.82      0.82      0.82      1989\n",
      "\n"
     ]
    },
    {
     "data": {
      "image/png": "[encoded data removed]",
      "text/plain": [
       "<Figure size 720x720 with 2 Axes>"
      ]
     },
     "metadata": {
      "needs_background": "light"
     },
     "output_type": "display_data"
    }
   ],
   "source": [
    "from sklearn import svm\n",
    "from sklearn.metrics import accuracy_score\n",
    "from sklearn.model_selection import cross_val_score\n",
    "from sklearn.model_selection import GridSearchCV\n",
    "\n",
    "y_train = y_train.reshape(y_train.size)\n",
    "purpose = 'run'    #optimize or run(get best results)\n",
    "\n",
    "if purpose == 'optimize':\n",
    "    #---------1.Linear SVM-------------#\n",
    "    lsvm = svm.LinearSVC(C=7)\n",
    "    lsvm.fit(x_train, y_train)\n",
    "\n",
    "    # cv  \n",
    "    scores = cross_val_score(svm.LinearSVC(C=7), x_train ,y_train, cv=5)\n",
    "    print(\"training accuracy: %0.4f (+/- %0.4f)\" % (scores.mean(), scores.std() * 2))\n",
    "    y_pred1 = lsvm.predict(x_test)\n",
    "    print(\"testing accuracy 1 before Grid Search:\", accuracy_score(y_test, y_pred1))\n",
    "\n",
    "    # grid search\n",
    "    parameters = {'C':[0.1,0.5,1,2,3,4,5,6,7,8,9,10]}\n",
    "    clf_svm1 = GridSearchCV(lsvm, parameters)\n",
    "    clf_svm1.fit(x_train, y_train)\n",
    "\n",
    "    # predict cuisines\n",
    "    y_pred2 = clf_svm1.predict(x_test)\n",
    "    print(\"testing accuracy 1 after Grid Seach:\", accuracy_score(y_test, y_pred2))\n",
    "    #clf.get_params()\n",
    "\n",
    "    #---------2.SVM-------------#\n",
    "    # grid search\n",
    "    param_grid = [{'C': [0.1, 1, 10], 'kernel': ['linear']},{'C': [0.1, 1, 10], 'gamma': [0.001, 0.01, 0.1, 1], 'kernel': ['rbf']},]\n",
    "    svm_kern = svm.SVC()\n",
    "    clf_svm2 = GridSearchCV(svm_kern, param_grid)\n",
    "    clf_svm2.fit(x_train, y_train)\n",
    "    svm_kern.fit(x_train, y_train)\n",
    "\n",
    "    # predict cuisines\n",
    "    y_pred3= clf_svm2.predict(x_test)\n",
    "    print(\"testing accuracy 2 after Grid Seach:\", accuracy_score(y_test, y_pred3))\n",
    "    #clf2.get_params()\n",
    "\n",
    "    #---------3.SVM extension-------------#\n",
    "    # extend parameter grid\n",
    "    param_grid2 = [{'C': [5, 10, 50, 100, 1000], 'gamma': [0.5, 1, 10, 100, 1000], 'kernel': ['rbf']}]\n",
    "    svm_kern_2 = svm.SVC()\n",
    "    clf_svm3 = GridSearchCV(svm_kern_2, param_grid2)\n",
    "    clf_svm3.fit(x_train, y_train)\n",
    "\n",
    "    # predict cuisines\n",
    "    y_pred4= clf_svm3.predict(x_test)\n",
    "    print(\"testing accuracy 3 after Grid Seach:\", accuracy_score(y_test, y_pred4))\n",
    "    #clf2.get_params()\n",
    "else:\n",
    "    print(\"--before optimization--\")\n",
    "    lsvm = svm.LinearSVC()\n",
    "    lsvm.fit(x_train, y_train)\n",
    "    y_pred1 = lsvm.predict(x_test)\n",
    "    print(\"testing accuracy:\", accuracy_score(y_test, y_pred1))\n",
    "    \n",
    "    print(\"--after optimization--\")\n",
    "    #best parameter C=10, gamma=1, kernel='rbf' -  - test accuracy 82.1016%\n",
    "    svm_clf = svm.SVC(C = 10, kernel = 'rbf', gamma = 1)\n",
    "    svm_clf.fit(x_train, y_train)\n",
    "    scores = cross_val_score(svm_clf, x_train ,y_train, cv=5)\n",
    "    print(\"CV training accuracy: %0.4f (+/- %0.4f)\" % (scores.mean(), scores.std() * 2))\n",
    "    y_pred2 = svm_clf.predict(x_test)\n",
    "    print(\"testing accuracy:\", accuracy_score(y_test, y_pred2))\n",
    "    cm(y_test, y_pred2, cuisine)"
   ]
  },
  {
   "cell_type": "markdown",
   "metadata": {
    "colab_type": "text",
    "id": "209b6td8DdTK"
   },
   "source": [
    "### **Decision Tree Classifier - Other Case 1**"
   ]
  },
  {
   "cell_type": "code",
   "execution_count": 25,
   "metadata": {
    "colab": {
     "base_uri": "https://localhost:8080/",
     "height": 51
    },
    "colab_type": "code",
    "id": "paWgpojS_Dl2",
    "outputId": "48f1eac5-a455-421c-e89f-174ca4c09210"
   },
   "outputs": [
    {
     "name": "stdout",
     "output_type": "stream",
     "text": [
      "training accuracy: 0.9996294825989149\n",
      "testing accuracy: 0.6435394670688789\n"
     ]
    }
   ],
   "source": [
    "from sklearn.tree import DecisionTreeClassifier \n",
    "from sklearn.metrics import accuracy_score\n",
    "\n",
    "rf_clf = DecisionTreeClassifier()\n",
    "rf_clf.fit(x_train, y_train)\n",
    "y_pred1 = rf_clf.predict(x_train)\n",
    "y_pred2 = rf_clf.predict(x_test)\n",
    "\n",
    "print(\"training accuracy:\", accuracy_score(y_train, y_pred1))\n",
    "print(\"testing accuracy:\", accuracy_score(y_test, y_pred2))\n"
   ]
  },
  {
   "cell_type": "markdown",
   "metadata": {
    "colab_type": "text",
    "id": "Rnu3szHC4sBK"
   },
   "source": [
    "### **Passive Aggressive Classifier - Other Case 2**"
   ]
  },
  {
   "cell_type": "code",
   "execution_count": 26,
   "metadata": {
    "colab": {
     "base_uri": "https://localhost:8080/",
     "height": 51
    },
    "colab_type": "code",
    "id": "VsyppYSq42F4",
    "outputId": "e4882e87-7dfa-4c34-8867-3f8556eb633b"
   },
   "outputs": [
    {
     "name": "stdout",
     "output_type": "stream",
     "text": [
      "training accuracy: 0.8577742490406246\n",
      "testing accuracy: 0.759175465057818\n"
     ]
    }
   ],
   "source": [
    "from sklearn.linear_model import PassiveAggressiveClassifier\n",
    "from sklearn.metrics import accuracy_score\n",
    "\n",
    "pa_clf = PassiveAggressiveClassifier(C = 0.5, max_iter = 1000, tol = 1e-5, loss = 'squared_hinge')\n",
    "pa_clf.fit(x_train, y_train)\n",
    "y_pred1 = pa_clf.predict(x_train)\n",
    "y_pred2 = pa_clf.predict(x_test)\n",
    "\n",
    "# test accuracy 77%\n",
    "print(\"training accuracy:\", accuracy_score(y_train, y_pred1))\n",
    "print(\"testing accuracy:\", accuracy_score(y_test, y_pred2))"
   ]
  },
  {
   "cell_type": "markdown",
   "metadata": {
    "colab_type": "text",
    "id": "r7-1LizFxMpb"
   },
   "source": [
    "### **Random Forest - Other Case 3**\n"
   ]
  },
  {
   "cell_type": "code",
   "execution_count": 27,
   "metadata": {
    "colab": {
     "base_uri": "https://localhost:8080/",
     "height": 51
    },
    "colab_type": "code",
    "id": "-ryQlDMGxRYS",
    "outputId": "7c7ccec4-301c-41fb-a83c-a7bd7b14bad9"
   },
   "outputs": [
    {
     "name": "stdout",
     "output_type": "stream",
     "text": [
      "training accuracy: 0.7827974063781924\n",
      "testing accuracy: 0.6581196581196581\n"
     ]
    }
   ],
   "source": [
    "from sklearn.ensemble import RandomForestClassifier\n",
    "from sklearn.metrics import accuracy_score\n",
    "\n",
    "y_train = y_train.reshape(y_train.size)\n",
    "\n",
    "rf_clf = RandomForestClassifier(n_estimators=1000, criterion = 'entropy',\n",
    "                                max_depth=20)\n",
    "rf_clf.fit(x_train, y_train)\n",
    "\n",
    "y_pred1 = rf_clf.predict(x_train)\n",
    "y_pred2 = rf_clf.predict(x_test) \n",
    "\n",
    "print(\"training accuracy:\", accuracy_score(y_train, y_pred1))\n",
    "print(\"testing accuracy:\", accuracy_score(y_test, y_pred2))"
   ]
  },
  {
   "cell_type": "markdown",
   "metadata": {
    "colab_type": "text",
    "id": "WtAlzW1C4jGL"
   },
   "source": [
    "### **Multiple Naive Bayes - Other Case 4**\n",
    "Optimum hyperparameter grid search."
   ]
  },
  {
   "cell_type": "code",
   "execution_count": 28,
   "metadata": {
    "colab": {
     "base_uri": "https://localhost:8080/",
     "height": 102
    },
    "colab_type": "code",
    "id": "3TjpF9AG4p7z",
    "outputId": "24cb2cf7-472a-45fd-e428-f9c851607579"
   },
   "outputs": [
    {
     "name": "stdout",
     "output_type": "stream",
     "text": [
      "--before optimization--\n",
      "testing accuracy: 0.6892911010558069\n",
      "--after optimization--\n",
      "CV training accuracy: 0.7343 (+/- 0.0107)\n",
      "testing accuracy: 0.738562091503268\n"
     ]
    }
   ],
   "source": [
    "from sklearn.naive_bayes import BernoulliNB, MultinomialNB#, ComplementNB\n",
    "from sklearn.metrics import accuracy_score\n",
    "from sklearn.model_selection import GridSearchCV\n",
    "\n",
    "def run_NB(nb_clf):\n",
    "  \n",
    "    nb_clf.fit(x_train, y_train)\n",
    "    y_pred1 = nb_clf.predict(x_train)\n",
    "    y_pred2 = nb_clf.predict(x_test) \n",
    "\n",
    "    print(nb_clf)\n",
    "    print(\"training accuracy:\", accuracy_score(y_train, y_pred1))\n",
    "    print(\"testing accuracy:\", accuracy_score(y_test, y_pred2))\n",
    "\n",
    "\n",
    "#run_NB(BernoulliNB(alpha=.01))\n",
    "#run_NB(ComplementNB(alpha=.1))\n",
    "\n",
    "y_train = y_train.reshape(y_train.size)\n",
    "purpose = 'run'    #optimize or run(get best results)\n",
    "\n",
    "if purpose == 'optimize':\n",
    "    nb = MultinomialNB()\n",
    "    parameters = {'alpha':[0.001,0.1,0.15,0.2,0.25,0.3,0.35,0.4,0.45,0.5,0.55,0.6,0.65,0.7,0.75,0.8,0.85,0.9,0.95,1]}\n",
    "    nb_clf = GridSearchCV(nb, parameters)\n",
    "    nb_clf.fit(x_train, y_train)\n",
    "\n",
    "    # predict cuisines\n",
    "    y_pred = nb_clf.predict(x_test)\n",
    "    print(\"testing accuracy after Grid Seach:\", accuracy_score(y_test, y_pred))\n",
    "    #best parameter alpha =0.1  - test accuracy 73.8562%\n",
    "    print(nb_clf.best_estimator_)\n",
    "else:\n",
    "    print(\"--before optimization--\")\n",
    "    nb = MultinomialNB()\n",
    "    nb.fit(x_train, y_train)\n",
    "    y_pred = nb.predict(x_test)\n",
    "    print(\"testing accuracy:\", accuracy_score(y_test, y_pred))\n",
    "    \n",
    "    print(\"--after optimization--\")\n",
    "    #best alpha = 0.1\n",
    "    nb_clf = MultinomialNB( alpha = 0.1)\n",
    "    nb_clf.fit(x_train, y_train)\n",
    "    scores = cross_val_score(nb_clf, x_train ,y_train, cv=5)\n",
    "    print(\"CV training accuracy: %0.4f (+/- %0.4f)\" % (scores.mean(), scores.std() * 2))\n",
    "    y_pred2 = nb_clf.predict(x_test)\n",
    "    print(\"testing accuracy:\", accuracy_score(y_test, y_pred2))"
   ]
  }
 ],
 "metadata": {
  "accelerator": "TPU",
  "colab": {
   "collapsed_sections": [],
   "name": "chef_final.ipynb",
   "provenance": [],
   "toc_visible": true,
   "version": "0.3.2"
  },
  "kernelspec": {
   "display_name": "Python 3",
   "language": "python",
   "name": "python3"
  },
  "language_info": {
   "codemirror_mode": {
    "name": "ipython",
    "version": 3
   },
   "file_extension": ".py",
   "mimetype": "text/x-python",
   "name": "python",
   "nbconvert_exporter": "python",
   "pygments_lexer": "ipython3",
   "version": "3.6.1"
  }
 },
 "nbformat": 4,
 "nbformat_minor": 1
}
